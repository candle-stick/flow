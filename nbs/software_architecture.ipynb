{
 "cells": [
  {
   "cell_type": "code",
   "execution_count": 3,
   "metadata": {},
   "outputs": [],
   "source": [
    "import iplantuml"
   ]
  },
  {
   "cell_type": "code",
   "execution_count": 4,
   "metadata": {},
   "outputs": [
    {
     "data": {
      "image/svg+xml": [
       "<svg contentScriptType=\"application/ecmascript\" contentStyleType=\"text/css\" height=\"173px\" preserveAspectRatio=\"none\" style=\"width:459px;height:173px;\" version=\"1.1\" viewBox=\"0 0 459 173\" width=\"459px\" xmlns=\"http://www.w3.org/2000/svg\" xmlns:xlink=\"http://www.w3.org/1999/xlink\" zoomAndPan=\"magnify\"><defs><filter height=\"300%\" id=\"fqdcbm785gawx\" width=\"300%\" x=\"-1\" y=\"-1\"><feGaussianBlur result=\"blurOut\" stdDeviation=\"2.0\"/><feColorMatrix in=\"blurOut\" result=\"blurOut2\" type=\"matrix\" values=\"0 0 0 0 0 0 0 0 0 0 0 0 0 0 0 0 0 0 .4 0\"/><feOffset dx=\"4.0\" dy=\"4.0\" in=\"blurOut2\" result=\"blurOut3\"/><feBlend in=\"SourceGraphic\" in2=\"blurOut3\" mode=\"normal\"/></filter></defs><g><!--MD5=[fa9430b6aaa2b6fb80d19946d6eda359]\n",
       "entity Flow--><rect fill=\"#FEFECE\" filter=\"url(#fqdcbm785gawx)\" height=\"46.2969\" style=\"stroke: #A80036; stroke-width: 1.5;\" width=\"72\" x=\"190\" y=\"7\"/><rect fill=\"#FEFECE\" height=\"10\" style=\"stroke: #A80036; stroke-width: 1.5;\" width=\"15\" x=\"242\" y=\"12\"/><rect fill=\"#FEFECE\" height=\"2\" style=\"stroke: #A80036; stroke-width: 1.5;\" width=\"4\" x=\"240\" y=\"14\"/><rect fill=\"#FEFECE\" height=\"2\" style=\"stroke: #A80036; stroke-width: 1.5;\" width=\"4\" x=\"240\" y=\"18\"/><text fill=\"#000000\" font-family=\"sans-serif\" font-size=\"14\" lengthAdjust=\"spacingAndGlyphs\" textLength=\"32\" x=\"205\" y=\"39.9951\">Flow</text><!--MD5=[3d98c10aaffad8527997a6440f7568c6]\n",
       "entity Workflow--><rect fill=\"#FEFECE\" filter=\"url(#fqdcbm785gawx)\" height=\"46.2969\" style=\"stroke: #A80036; stroke-width: 1.5;\" width=\"108\" x=\"7\" y=\"113\"/><rect fill=\"#FEFECE\" height=\"10\" style=\"stroke: #A80036; stroke-width: 1.5;\" width=\"15\" x=\"95\" y=\"118\"/><rect fill=\"#FEFECE\" height=\"2\" style=\"stroke: #A80036; stroke-width: 1.5;\" width=\"4\" x=\"93\" y=\"120\"/><rect fill=\"#FEFECE\" height=\"2\" style=\"stroke: #A80036; stroke-width: 1.5;\" width=\"4\" x=\"93\" y=\"124\"/><text fill=\"#000000\" font-family=\"sans-serif\" font-size=\"14\" lengthAdjust=\"spacingAndGlyphs\" textLength=\"68\" x=\"22\" y=\"145.9951\">Workflow</text><!--MD5=[7232fe7b7b68677918c91e188f9fdab1]\n",
       "entity WorkflowGraph--><rect fill=\"#FEFECE\" filter=\"url(#fqdcbm785gawx)\" height=\"46.2969\" style=\"stroke: #A80036; stroke-width: 1.5;\" width=\"152\" x=\"150\" y=\"113\"/><rect fill=\"#FEFECE\" height=\"10\" style=\"stroke: #A80036; stroke-width: 1.5;\" width=\"15\" x=\"282\" y=\"118\"/><rect fill=\"#FEFECE\" height=\"2\" style=\"stroke: #A80036; stroke-width: 1.5;\" width=\"4\" x=\"280\" y=\"120\"/><rect fill=\"#FEFECE\" height=\"2\" style=\"stroke: #A80036; stroke-width: 1.5;\" width=\"4\" x=\"280\" y=\"124\"/><text fill=\"#000000\" font-family=\"sans-serif\" font-size=\"14\" lengthAdjust=\"spacingAndGlyphs\" textLength=\"112\" x=\"165\" y=\"145.9951\">WorkflowGraph</text><!--MD5=[e995828b287532168f8bc89fd17508f6]\n",
       "entity template--><rect fill=\"#FEFECE\" filter=\"url(#fqdcbm785gawx)\" height=\"46.2969\" style=\"stroke: #A80036; stroke-width: 1.5;\" width=\"108\" x=\"337\" y=\"113\"/><rect fill=\"#FEFECE\" height=\"10\" style=\"stroke: #A80036; stroke-width: 1.5;\" width=\"15\" x=\"425\" y=\"118\"/><rect fill=\"#FEFECE\" height=\"2\" style=\"stroke: #A80036; stroke-width: 1.5;\" width=\"4\" x=\"423\" y=\"120\"/><rect fill=\"#FEFECE\" height=\"2\" style=\"stroke: #A80036; stroke-width: 1.5;\" width=\"4\" x=\"423\" y=\"124\"/><text fill=\"#000000\" font-family=\"sans-serif\" font-size=\"14\" lengthAdjust=\"spacingAndGlyphs\" textLength=\"68\" x=\"352\" y=\"145.9951\">template</text><!--MD5=[597379020de22defad168676d599b061]\n",
       "entity DagBuilder--><rect fill=\"#FEFECE\" filter=\"url(#fqdcbm785gawx)\" height=\"46.2969\" style=\"stroke: #A80036; stroke-width: 1.5;\" width=\"118\" x=\"297\" y=\"7\"/><rect fill=\"#FEFECE\" height=\"10\" style=\"stroke: #A80036; stroke-width: 1.5;\" width=\"15\" x=\"395\" y=\"12\"/><rect fill=\"#FEFECE\" height=\"2\" style=\"stroke: #A80036; stroke-width: 1.5;\" width=\"4\" x=\"393\" y=\"14\"/><rect fill=\"#FEFECE\" height=\"2\" style=\"stroke: #A80036; stroke-width: 1.5;\" width=\"4\" x=\"393\" y=\"18\"/><text fill=\"#000000\" font-family=\"sans-serif\" font-size=\"14\" lengthAdjust=\"spacingAndGlyphs\" textLength=\"78\" x=\"312\" y=\"39.9951\">DagBuilder</text><!--MD5=[4338f84d2d4abe3b7eb337f8060a2971]\n",
       "link Flow to Workflow--><path d=\"M191.008,53.056 C164.429,69.8086 127.87,92.8518 100.2885,110.2364 \" fill=\"none\" id=\"Flow-to-Workflow\" style=\"stroke: #A80036; stroke-width: 1.0;\"/><polygon fill=\"#A80036\" points=\"95.9418,112.9761,105.6885,111.5609,100.1717,110.31,101.4226,104.7932,95.9418,112.9761\" style=\"stroke: #A80036; stroke-width: 1.0;\"/><!--MD5=[b7fc0ef732fc0158c2b725373c280f1c]\n",
       "link Flow to WorkflowGraph--><path d=\"M226,53.056 C226,69.0503 226,90.7785 226,107.8418 \" fill=\"none\" id=\"Flow-to-WorkflowGraph\" style=\"stroke: #A80036; stroke-width: 1.0;\"/><polygon fill=\"#A80036\" points=\"226,112.9761,230,103.9761,226,107.9761,222,103.9761,226,112.9761\" style=\"stroke: #A80036; stroke-width: 1.0;\"/><!--MD5=[8e717ec16721ff77cc5615e2b34bed74]\n",
       "link Flow to template--><path d=\"M260.992,53.056 C287.571,69.8086 324.13,92.8518 351.712,110.2364 \" fill=\"none\" id=\"Flow-to-template\" style=\"stroke: #A80036; stroke-width: 1.0;\"/><polygon fill=\"#A80036\" points=\"356.058,112.9761,350.5766,104.7936,351.828,110.3103,346.3112,111.5616,356.058,112.9761\" style=\"stroke: #A80036; stroke-width: 1.0;\"/><!--MD5=[852404bcf29968085dc63632e2681f83]\n",
       "link Flow to DagBuilder--><path d=\"M262.055,30 C271.951,30 281.846,30 291.742,30 \" fill=\"none\" id=\"Flow-to-DagBuilder\" style=\"stroke: #A80036; stroke-width: 1.0;\"/><polygon fill=\"#A80036\" points=\"296.917,30,287.917,26,291.917,30,287.917,34,296.917,30\" style=\"stroke: #A80036; stroke-width: 1.0;\"/><!--MD5=[8d66fcfe372d298132d40242e032d7d0]\n",
       "@startuml\n",
       "[Flow] -down-> [Workflow]\n",
       "[Flow] -down-> [WorkflowGraph]\n",
       "[Flow] -down-> [template]\n",
       "[Flow] -right-> [DagBuilder]\n",
       "@enduml\n",
       "\n",
       "PlantUML version 1.2020.20beta9(Unknown compile time)\n",
       "(GPL source distribution)\n",
       "Java Runtime: Java(TM) SE Runtime Environment\n",
       "JVM: Java HotSpot(TM) 64-Bit Server VM\n",
       "Default Encoding: UTF-8\n",
       "Language: en\n",
       "Country: US\n",
       "--></g></svg>"
      ],
      "text/plain": [
       "<IPython.core.display.SVG object>"
      ]
     },
     "execution_count": 4,
     "metadata": {},
     "output_type": "execute_result"
    }
   ],
   "source": [
    "%%plantuml\n",
    "\n",
    "@startuml\n",
    "[Flow] -down-> [Workflow]\n",
    "[Flow] -down-> [WorkflowGraph]\n",
    "[Flow] -down-> [template]\n",
    "[Flow] -right-> [DagBuilder]\n",
    "\n",
    "@enduml"
   ]
  },
  {
   "cell_type": "code",
   "execution_count": 14,
   "metadata": {},
   "outputs": [
    {
     "data": {
      "image/svg+xml": [
       "<svg contentScriptType=\"application/ecmascript\" contentStyleType=\"text/css\" height=\"410px\" preserveAspectRatio=\"none\" style=\"width:946px;height:410px;\" version=\"1.1\" viewBox=\"0 0 946 410\" width=\"946px\" xmlns=\"http://www.w3.org/2000/svg\" xmlns:xlink=\"http://www.w3.org/1999/xlink\" zoomAndPan=\"magnify\"><defs><filter height=\"300%\" id=\"f125zgaqtofm62\" width=\"300%\" x=\"-1\" y=\"-1\"><feGaussianBlur result=\"blurOut\" stdDeviation=\"2.0\"/><feColorMatrix in=\"blurOut\" result=\"blurOut2\" type=\"matrix\" values=\"0 0 0 0 0 0 0 0 0 0 0 0 0 0 0 0 0 0 .4 0\"/><feOffset dx=\"4.0\" dy=\"4.0\" in=\"blurOut2\" result=\"blurOut3\"/><feBlend in=\"SourceGraphic\" in2=\"blurOut3\" mode=\"normal\"/></filter></defs><g><!--MD5=[cdfd548b3455e70392372b1f27091970]\n",
       "cluster Services--><polygon fill=\"#FFFFFF\" filter=\"url(#f125zgaqtofm62)\" points=\"16,47.233,89,47.233,96,69.5299,533,69.5299,533,297.233,16,297.233,16,47.233\" style=\"stroke: #000000; stroke-width: 1.5;\"/><line style=\"stroke: #000000; stroke-width: 1.5;\" x1=\"16\" x2=\"96\" y1=\"69.5299\" y2=\"69.5299\"/><text fill=\"#000000\" font-family=\"sans-serif\" font-size=\"14\" font-weight=\"bold\" lengthAdjust=\"spacingAndGlyphs\" textLength=\"67\" x=\"20\" y=\"62.2281\">Services</text><!--MD5=[121a8bf1197281ab89ed693fab589f94]\n",
       "cluster Domain--><polygon fill=\"#FFFFFF\" filter=\"url(#f125zgaqtofm62)\" points=\"573,184.233,640,184.233,647,206.5299,929,206.5299,929,403.233,573,403.233,573,184.233\" style=\"stroke: #000000; stroke-width: 1.5;\"/><line style=\"stroke: #000000; stroke-width: 1.5;\" x1=\"573\" x2=\"647\" y1=\"206.5299\" y2=\"206.5299\"/><text fill=\"#000000\" font-family=\"sans-serif\" font-size=\"14\" font-weight=\"bold\" lengthAdjust=\"spacingAndGlyphs\" textLength=\"61\" x=\"577\" y=\"199.2281\">Domain</text><!--MD5=[aedc30b8666742a3000193d7e0a0b93e]\n",
       "cluster Adapters--><polygon fill=\"#FFFFFF\" filter=\"url(#f125zgaqtofm62)\" points=\"565,55.233,645,55.233,652,77.5299,894,77.5299,894,152.233,565,152.233,565,55.233\" style=\"stroke: #000000; stroke-width: 1.5;\"/><line style=\"stroke: #000000; stroke-width: 1.5;\" x1=\"565\" x2=\"652\" y1=\"77.5299\" y2=\"77.5299\"/><text fill=\"#000000\" font-family=\"sans-serif\" font-size=\"14\" font-weight=\"bold\" lengthAdjust=\"spacingAndGlyphs\" textLength=\"74\" x=\"569\" y=\"70.2281\">Adapters</text><!--MD5=[7b81b3f54888d80991adc2e216cc97b2]\n",
       "entity render--><rect fill=\"#FEFECE\" filter=\"url(#f125zgaqtofm62)\" height=\"46.2969\" style=\"stroke: #A80036; stroke-width: 1.5;\" width=\"88\" x=\"402\" y=\"90.233\"/><rect fill=\"#FEFECE\" height=\"10\" style=\"stroke: #A80036; stroke-width: 1.5;\" width=\"15\" x=\"470\" y=\"95.233\"/><rect fill=\"#FEFECE\" height=\"2\" style=\"stroke: #A80036; stroke-width: 1.5;\" width=\"4\" x=\"468\" y=\"97.233\"/><rect fill=\"#FEFECE\" height=\"2\" style=\"stroke: #A80036; stroke-width: 1.5;\" width=\"4\" x=\"468\" y=\"101.233\"/><text fill=\"#000000\" font-family=\"sans-serif\" font-size=\"14\" lengthAdjust=\"spacingAndGlyphs\" textLength=\"48\" x=\"417\" y=\"123.2281\">render</text><!--MD5=[53cad45375a29f308baf6932c4377df8]\n",
       "entity build_workflow--><rect fill=\"#FEFECE\" filter=\"url(#f125zgaqtofm62)\" height=\"46.2969\" style=\"stroke: #A80036; stroke-width: 1.5;\" width=\"147\" x=\"40.5\" y=\"90.233\"/><rect fill=\"#FEFECE\" height=\"10\" style=\"stroke: #A80036; stroke-width: 1.5;\" width=\"15\" x=\"167.5\" y=\"95.233\"/><rect fill=\"#FEFECE\" height=\"2\" style=\"stroke: #A80036; stroke-width: 1.5;\" width=\"4\" x=\"165.5\" y=\"97.233\"/><rect fill=\"#FEFECE\" height=\"2\" style=\"stroke: #A80036; stroke-width: 1.5;\" width=\"4\" x=\"165.5\" y=\"101.233\"/><text fill=\"#000000\" font-family=\"sans-serif\" font-size=\"14\" lengthAdjust=\"spacingAndGlyphs\" textLength=\"107\" x=\"55.5\" y=\"123.2281\">build_workflow</text><!--MD5=[5090eb1386866cdf6c5150338b8c157a]\n",
       "entity compose_task--><rect fill=\"#FEFECE\" filter=\"url(#f125zgaqtofm62)\" height=\"46.2969\" style=\"stroke: #A80036; stroke-width: 1.5;\" width=\"144\" x=\"223\" y=\"90.233\"/><rect fill=\"#FEFECE\" height=\"10\" style=\"stroke: #A80036; stroke-width: 1.5;\" width=\"15\" x=\"347\" y=\"95.233\"/><rect fill=\"#FEFECE\" height=\"2\" style=\"stroke: #A80036; stroke-width: 1.5;\" width=\"4\" x=\"345\" y=\"97.233\"/><rect fill=\"#FEFECE\" height=\"2\" style=\"stroke: #A80036; stroke-width: 1.5;\" width=\"4\" x=\"345\" y=\"101.233\"/><text fill=\"#000000\" font-family=\"sans-serif\" font-size=\"14\" lengthAdjust=\"spacingAndGlyphs\" textLength=\"104\" x=\"238\" y=\"123.2281\">compose_task</text><!--MD5=[4fc607a884c2f86d7d033f7574c4a068]\n",
       "entity build_graph--><rect fill=\"#FEFECE\" filter=\"url(#f125zgaqtofm62)\" height=\"46.2969\" style=\"stroke: #A80036; stroke-width: 1.5;\" width=\"124\" x=\"52\" y=\"227.233\"/><rect fill=\"#FEFECE\" height=\"10\" style=\"stroke: #A80036; stroke-width: 1.5;\" width=\"15\" x=\"156\" y=\"232.233\"/><rect fill=\"#FEFECE\" height=\"2\" style=\"stroke: #A80036; stroke-width: 1.5;\" width=\"4\" x=\"154\" y=\"234.233\"/><rect fill=\"#FEFECE\" height=\"2\" style=\"stroke: #A80036; stroke-width: 1.5;\" width=\"4\" x=\"154\" y=\"238.233\"/><text fill=\"#000000\" font-family=\"sans-serif\" font-size=\"14\" lengthAdjust=\"spacingAndGlyphs\" textLength=\"84\" x=\"67\" y=\"260.2281\">build_graph</text><!--MD5=[0df4900ab223ad9b3de6e1e31e524e16]\n",
       "entity draw--><rect fill=\"#FEFECE\" filter=\"url(#f125zgaqtofm62)\" height=\"46.2969\" style=\"stroke: #A80036; stroke-width: 1.5;\" width=\"74\" x=\"211\" y=\"227.233\"/><rect fill=\"#FEFECE\" height=\"10\" style=\"stroke: #A80036; stroke-width: 1.5;\" width=\"15\" x=\"265\" y=\"232.233\"/><rect fill=\"#FEFECE\" height=\"2\" style=\"stroke: #A80036; stroke-width: 1.5;\" width=\"4\" x=\"263\" y=\"234.233\"/><rect fill=\"#FEFECE\" height=\"2\" style=\"stroke: #A80036; stroke-width: 1.5;\" width=\"4\" x=\"263\" y=\"238.233\"/><text fill=\"#000000\" font-family=\"sans-serif\" font-size=\"14\" lengthAdjust=\"spacingAndGlyphs\" textLength=\"34\" x=\"226\" y=\"260.2281\">draw</text><!--MD5=[02dfb7668ae77f32608fe7ca41c26f80]\n",
       "entity Task--><rect fill=\"#FEFECE\" filter=\"url(#f125zgaqtofm62)\" height=\"46.2969\" style=\"stroke: #A80036; stroke-width: 1.5;\" width=\"73\" x=\"616.5\" y=\"227.233\"/><rect fill=\"#FEFECE\" height=\"10\" style=\"stroke: #A80036; stroke-width: 1.5;\" width=\"15\" x=\"669.5\" y=\"232.233\"/><rect fill=\"#FEFECE\" height=\"2\" style=\"stroke: #A80036; stroke-width: 1.5;\" width=\"4\" x=\"667.5\" y=\"234.233\"/><rect fill=\"#FEFECE\" height=\"2\" style=\"stroke: #A80036; stroke-width: 1.5;\" width=\"4\" x=\"667.5\" y=\"238.233\"/><text fill=\"#000000\" font-family=\"sans-serif\" font-size=\"14\" lengthAdjust=\"spacingAndGlyphs\" textLength=\"33\" x=\"631.5\" y=\"260.2281\">Task</text><!--MD5=[2b6940cb98c7b6e65bcaffec4d973c1b]\n",
       "entity WorkflowDefinition--><rect fill=\"#FEFECE\" filter=\"url(#f125zgaqtofm62)\" height=\"46.2969\" style=\"stroke: #A80036; stroke-width: 1.5;\" width=\"180\" x=\"725\" y=\"227.233\"/><rect fill=\"#FEFECE\" height=\"10\" style=\"stroke: #A80036; stroke-width: 1.5;\" width=\"15\" x=\"885\" y=\"232.233\"/><rect fill=\"#FEFECE\" height=\"2\" style=\"stroke: #A80036; stroke-width: 1.5;\" width=\"4\" x=\"883\" y=\"234.233\"/><rect fill=\"#FEFECE\" height=\"2\" style=\"stroke: #A80036; stroke-width: 1.5;\" width=\"4\" x=\"883\" y=\"238.233\"/><text fill=\"#000000\" font-family=\"sans-serif\" font-size=\"14\" lengthAdjust=\"spacingAndGlyphs\" textLength=\"140\" x=\"740\" y=\"260.2281\">WorkflowDefinition</text><!--MD5=[2c8113cc364a23b9ee674e814acb7abf]\n",
       "entity Config--><rect fill=\"#FEFECE\" filter=\"url(#f125zgaqtofm62)\" height=\"46.2969\" style=\"stroke: #A80036; stroke-width: 1.5;\" width=\"87\" x=\"616.5\" y=\"333.233\"/><rect fill=\"#FEFECE\" height=\"10\" style=\"stroke: #A80036; stroke-width: 1.5;\" width=\"15\" x=\"683.5\" y=\"338.233\"/><rect fill=\"#FEFECE\" height=\"2\" style=\"stroke: #A80036; stroke-width: 1.5;\" width=\"4\" x=\"681.5\" y=\"340.233\"/><rect fill=\"#FEFECE\" height=\"2\" style=\"stroke: #A80036; stroke-width: 1.5;\" width=\"4\" x=\"681.5\" y=\"344.233\"/><text fill=\"#000000\" font-family=\"sans-serif\" font-size=\"14\" lengthAdjust=\"spacingAndGlyphs\" textLength=\"47\" x=\"631.5\" y=\"366.2281\">Config</text><!--MD5=[86eb08b1342d1c4a87f77cf142839f4d]\n",
       "entity Templater--><rect fill=\"#FEFECE\" filter=\"url(#f125zgaqtofm62)\" height=\"46.2969\" style=\"stroke: #A80036; stroke-width: 1.5;\" width=\"116\" x=\"762\" y=\"90.233\"/><rect fill=\"#FEFECE\" height=\"10\" style=\"stroke: #A80036; stroke-width: 1.5;\" width=\"15\" x=\"858\" y=\"95.233\"/><rect fill=\"#FEFECE\" height=\"2\" style=\"stroke: #A80036; stroke-width: 1.5;\" width=\"4\" x=\"856\" y=\"97.233\"/><rect fill=\"#FEFECE\" height=\"2\" style=\"stroke: #A80036; stroke-width: 1.5;\" width=\"4\" x=\"856\" y=\"101.233\"/><text fill=\"#000000\" font-family=\"sans-serif\" font-size=\"14\" lengthAdjust=\"spacingAndGlyphs\" textLength=\"76\" x=\"777\" y=\"123.2281\">Templater</text><!--MD5=[ffa21d20be1ccfacae214def0831625b]\n",
       "entity JinjaTemplater--><rect fill=\"#FEFECE\" filter=\"url(#f125zgaqtofm62)\" height=\"46.2969\" style=\"stroke: #A80036; stroke-width: 1.5;\" width=\"145\" x=\"581.5\" y=\"90.233\"/><rect fill=\"#FEFECE\" height=\"10\" style=\"stroke: #A80036; stroke-width: 1.5;\" width=\"15\" x=\"706.5\" y=\"95.233\"/><rect fill=\"#FEFECE\" height=\"2\" style=\"stroke: #A80036; stroke-width: 1.5;\" width=\"4\" x=\"704.5\" y=\"97.233\"/><rect fill=\"#FEFECE\" height=\"2\" style=\"stroke: #A80036; stroke-width: 1.5;\" width=\"4\" x=\"704.5\" y=\"101.233\"/><text fill=\"#000000\" font-family=\"sans-serif\" font-size=\"14\" lengthAdjust=\"spacingAndGlyphs\" textLength=\"105\" x=\"596.5\" y=\"123.2281\">JinjaTemplater</text><!--MD5=[7182d3cc5b971b09911f6c84ab3521d5]\n",
       "link Services to Domain--><path d=\"M533.0644,133.6734 C533.1415,133.8593 533.219,134.0461 533.2969,134.234 C533.6086,134.9854 533.9269,135.7527 534.2514,136.5351 C539.4437,149.0523 546.2274,165.406 553.0104,181.7578 C559.7933,198.1095 566.5755,214.4593 571.7646,226.9688 C572.089,227.7507 572.4071,228.5175 572.7186,229.2684 C572.7964,229.4561 572.8739,229.6429 572.9509,229.8286 \" fill=\"none\" id=\"Services-to-Domain\" style=\"stroke: #A80036; stroke-width: 1.0;\"/><polygon fill=\"#A80036\" points=\"572.9509,229.8286,573.1972,219.9828,571.0351,225.2102,565.8078,223.0481,572.9509,229.8286\" style=\"stroke: #A80036; stroke-width: 1.0;\"/><!--MD5=[63d2ee7aabfee3e3eec8f3ccc5cbf994]\n",
       "link render to JinjaTemplater--><path d=\"M452.127,90.115 C460.004,65.579 476.303,28.075 505.667,11.233 C514.791,6 519.427,7.697 529.333,11.233 C570.833,26.047 608.476,61.267 631.288,86.161 \" fill=\"none\" id=\"render-to-JinjaTemplater\" style=\"stroke: #A80036; stroke-width: 1.0;\"/><polygon fill=\"#A80036\" points=\"634.82,90.063,631.7457,80.7063,631.4645,86.3561,625.8147,86.075,634.82,90.063\" style=\"stroke: #A80036; stroke-width: 1.0;\"/><!--MD5=[1377d87010463bcfa5e78ad4f3de0d1f]\n",
       "link JinjaTemplater to Templater--><path d=\"M726.625,113.233 C736.564,113.233 746.504,113.233 756.443,113.233 \" fill=\"none\" id=\"JinjaTemplater-to-Templater\" style=\"stroke: #A80036; stroke-width: 1.0;\"/><polygon fill=\"#A80036\" points=\"761.641,113.233,752.641,109.233,756.641,113.233,752.641,117.233,761.641,113.233\" style=\"stroke: #A80036; stroke-width: 1.0;\"/><!--MD5=[e22b43733a40fc30178111ebb911e4d6]\n",
       "link build_workflow to compose_task--><!--MD5=[a27c87e615250498854617fce8d8e610]\n",
       "link build_workflow to build_graph--><!--MD5=[639e668282ee13507c9016aa227a2997]\n",
       "link build_graph to draw--><!--MD5=[4eb222e3cf3bf79a1ed1c69fb72018d3]\n",
       "link Task to WorkflowDefinition--><!--MD5=[cd8435e312f7914a378473cf9b5f861d]\n",
       "link Task to Config--><!--MD5=[56c194b1c9c4fdcda3b6996c0aef27ce]\n",
       "@startuml\n",
       "package Services {\n",
       "    [render]\n",
       "    [build_workflow]\n",
       "    [compose_task]\n",
       "    [build_graph]\n",
       "    [draw]\n",
       "}\n",
       "\n",
       "package Domain {\n",
       "    [Task]\n",
       "    [WorkflowDefinition]\n",
       "    [Config]\n",
       "}\n",
       "\n",
       "package Adapters {\n",
       "    [Templater]\n",
       "    [JinjaTemplater]\n",
       "}\n",
       "\n",
       "Services -down-> Domain\n",
       "[render] -> [JinjaTemplater]\n",
       "[JinjaTemplater] -> [Templater]\n",
       "@enduml\n",
       "\n",
       "PlantUML version 1.2020.20beta11(Unknown compile time)\n",
       "(GPL source distribution)\n",
       "Java Runtime: Java(TM) SE Runtime Environment\n",
       "JVM: Java HotSpot(TM) 64-Bit Server VM\n",
       "Default Encoding: UTF-8\n",
       "Language: en\n",
       "Country: US\n",
       "--></g></svg>"
      ],
      "text/plain": [
       "<IPython.core.display.SVG object>"
      ]
     },
     "execution_count": 14,
     "metadata": {},
     "output_type": "execute_result"
    }
   ],
   "source": [
    "%%plantuml\n",
    "\n",
    "@startuml\n",
    "\n",
    "package Services {\n",
    "    [render]\n",
    "    [build_workflow]\n",
    "    [compose_task]\n",
    "    [build_graph]\n",
    "}\n",
    "\n",
    "package Domain {\n",
    "    [Task]\n",
    "    [WorkflowDefinition]\n",
    "    [Config]\n",
    "}\n",
    "\n",
    "package Adapters {\n",
    "    [Templater]\n",
    "    [JinjaTemplater]\n",
    "}\n",
    "\n",
    "Services -down-> Domain\n",
    "[render] -> [JinjaTemplater]\n",
    "[JinjaTemplater] -> [Templater]\n",
    "\n",
    "@enduml"
   ]
  },
  {
   "cell_type": "code",
   "execution_count": null,
   "metadata": {},
   "outputs": [],
   "source": []
  }
 ],
 "metadata": {
  "kernelspec": {
   "display_name": "Python 3",
   "language": "python",
   "name": "python3"
  },
  "language_info": {
   "codemirror_mode": {
    "name": "ipython",
    "version": 3
   },
   "file_extension": ".py",
   "mimetype": "text/x-python",
   "name": "python",
   "nbconvert_exporter": "python",
   "pygments_lexer": "ipython3",
   "version": "3.6.12"
  }
 },
 "nbformat": 4,
 "nbformat_minor": 4
}
