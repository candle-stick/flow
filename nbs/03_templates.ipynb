{
 "cells": [
  {
   "cell_type": "markdown",
   "metadata": {},
   "source": [
    "# Templates\n",
    "\n",
    "> Templates used to generate Airflow DAG Definition files."
   ]
  },
  {
   "cell_type": "markdown",
   "metadata": {},
   "source": [
    "## Base template"
   ]
  },
  {
   "cell_type": "code",
   "execution_count": null,
   "metadata": {},
   "outputs": [],
   "source": [
    "# -*- coding: utf-8 -*-\n",
    "#\n",
    "# This file was auto-generated at {{ build_time }} by {{ library_name }}, version {{ library_version }}.\n",
    "#\n",
    "#                           DO NOT EDIT!\n",
    "#\n",
    "# The configuration that generated this DAG was:\n",
    "#   filename: {{ metadata.filename }}\n",
    "#       date: {{ build_time }}\n",
    "#        md5: {{ config_md5 }}\n",
    "#\n",
    "# The configuration contents are below:\n",
    "###############################################################################\n",
    "{{ metadata.yaml_config | comment }}\n",
    "###############################################################################\n",
    "#\n",
    "\n",
    "import os\n",
    "import re\n",
    "from airflow import DAG\n",
    "\n",
    "{% for module in imports.modules %}\n",
    "import {{module}}\n",
    "{% endfor %}\n",
    "\n",
    "{% for (module, objects) in imports.objects.items() %}\n",
    "{% if '*' in objects %}\n",
    "from {{ module }} import *\n",
    "{% else %}\n",
    "from {{ module }} import {{ ', '.join(objects) }}\n",
    "{% endif %}\n",
    "{% endfor %}\n",
    "\n",
    "DEFAULT_TASK_ARGS = {\n",
    "{% for (arg_name, arg_value) in default_task_args.items() %}\n",
    "        '{{ arg_name }}': {{ arg_value | format_value }},\n",
    "{% endfor %}\n",
    "    }\n",
    "\n",
    "dag = DAG(\n",
    "{% for (arg_name, arg_value) in dag_args.items() %}\n",
    "        {{ arg_name }} = {{ arg_value | format_value }},\n",
    "{% endfor %}\n",
    "        default_args = DEFAULT_TASK_ARGS,\n",
    "    )"
   ]
  },
  {
   "cell_type": "markdown",
   "metadata": {},
   "source": [
    "## Operator"
   ]
  },
  {
   "cell_type": "code",
   "execution_count": null,
   "metadata": {},
   "outputs": [],
   "source": [
    "{% set operator_variable_name = node.name | sanitize_operator_name %}\n",
    "{{ operator_variable_name }} = {{ node.operator_class }}(\n",
    "{% for (arg_name, arg_value) in args.items() %}\n",
    "        {{ arg_name }} = {{ arg_value | format_value }},\n",
    "{% endfor %}\n",
    "    )\n",
    "\n",
    "{% for upstream_operator_name in upstream_dependencies %}\n",
    "{% set upstream_variable_name = upstream_operator_name | sanitize_operator_name %}\n",
    "{{ operator_variable_name }}.set_upstream({{ upstream_variable_name }})\n",
    "{% endfor %}"
   ]
  }
 ],
 "metadata": {
  "kernelspec": {
   "display_name": "Python 3",
   "language": "python",
   "name": "python3"
  },
  "language_info": {
   "codemirror_mode": {
    "name": "ipython",
    "version": 3
   },
   "file_extension": ".py",
   "mimetype": "text/x-python",
   "name": "python",
   "nbconvert_exporter": "python",
   "pygments_lexer": "ipython3",
   "version": "3.6.12"
  }
 },
 "nbformat": 4,
 "nbformat_minor": 4
}
