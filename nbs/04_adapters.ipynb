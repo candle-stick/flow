{
 "cells": [
  {
   "cell_type": "code",
   "execution_count": 11,
   "metadata": {},
   "outputs": [],
   "source": [
    "#default_exp adapters.templater"
   ]
  },
  {
   "cell_type": "code",
   "execution_count": 7,
   "metadata": {},
   "outputs": [],
   "source": [
    "#export\n",
    "from dpcontracts import require, types, ensure\n",
    "from typing_extensions import Protocol\n",
    "from jinja2 import Environment, PackageLoader, Template"
   ]
  },
  {
   "cell_type": "markdown",
   "metadata": {},
   "source": [
    "# Template\n",
    "\n",
    "> Building an abstraction around the templating engine (Jinja2)."
   ]
  },
  {
   "cell_type": "code",
   "execution_count": 8,
   "metadata": {},
   "outputs": [],
   "source": [
    "#hide\n",
    "from nbdev.showdoc import *"
   ]
  },
  {
   "cell_type": "markdown",
   "metadata": {},
   "source": [
    "## Template Protocol\n",
    "A template is anything that implements `get_template` and `render`. We make this explicit by defining a `Protocol` which favors composition over inheritence-based `Abstract Classes`."
   ]
  },
  {
   "cell_type": "code",
   "execution_count": 9,
   "metadata": {},
   "outputs": [],
   "source": [
    "#export\n",
    "class Templater(Protocol):\n",
    "    def get_template(self, filename: str):\n",
    "        ...\n",
    "    \n",
    "    def render(self, template: str, content: dict) -> str:\n",
    "        ...\n",
    "        "
   ]
  },
  {
   "cell_type": "markdown",
   "metadata": {},
   "source": [
    "## Jinja2\n",
    "[Template Design](https://jinja.palletsprojects.com/en/2.11.x/templates/)"
   ]
  },
  {
   "cell_type": "code",
   "execution_count": 9,
   "metadata": {},
   "outputs": [],
   "source": [
    "#export\n",
    "class JinjaTemplater:\n",
    "    \n",
    "    def __init__(self):\n",
    "        self.env = Environment(loader = PackageLoader('flow', 'templates'),\n",
    "                               trim_blocks = True)\n",
    "        \n",
    "    @ensure(\"Must return Template object\", lambda args, result: isinstance(result, Template))\n",
    "    def get_template(self, filename):\n",
    "        return self.env.get_template(filename)\n",
    "    \n",
    "    @types(template=str, content=dict)\n",
    "    @ensure(\"Must return string\", lambda args, result: isinstance(result, str))\n",
    "    def render(self, template, content) -> str:\n",
    "        template = self.get_template(template)\n",
    "        return template.render(content)"
   ]
  }
 ],
 "metadata": {
  "kernelspec": {
   "display_name": "Python 3",
   "language": "python",
   "name": "python3"
  },
  "language_info": {
   "codemirror_mode": {
    "name": "ipython",
    "version": 3
   },
   "file_extension": ".py",
   "mimetype": "text/x-python",
   "name": "python",
   "nbconvert_exporter": "python",
   "pygments_lexer": "ipython3",
   "version": "3.6.12"
  }
 },
 "nbformat": 4,
 "nbformat_minor": 4
}
